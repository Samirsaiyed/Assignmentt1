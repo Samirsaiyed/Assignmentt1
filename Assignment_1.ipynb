{
 "cells": [
  {
   "cell_type": "markdown",
   "id": "56c62fa6",
   "metadata": {},
   "source": [
    "#  Assignment - 1"
   ]
  },
  {
   "cell_type": "raw",
   "id": "7809190c",
   "metadata": {},
   "source": [
    "1. In the below elements which of them are values or an expression? eg:- values can be\n",
    "   integer or string and expressions will be mathematical operators.\n",
    "  \n",
    "  * , 'hello', -87.8 , - , / , + ,6\n",
    " \n",
    "Ans: There are total of 4 operators and 3 expressions \n",
    "     oprators : * , - , / , +\n",
    "     expressions : 'hello' , -87.8 , 6"
   ]
  },
  {
   "cell_type": "raw",
   "id": "6cab8204",
   "metadata": {},
   "source": [
    "2. What is the difference between string and variable?\n",
    "\n",
    "Ans: A variable used to store a information , and a string is a type of information you would stoore in a variable. A   string is a group of characters or a single characters usually enclosed in double quotes \" \" or single quotes ' ' "
   ]
  },
  {
   "cell_type": "raw",
   "id": "43fd884c",
   "metadata": {},
   "source": [
    "3. Describe three different data types.\n",
    "\n",
    "Ans: there are datatyes in python are integer(int) , float , string\n",
    "\n",
    "1. int data type : \n",
    "       we can use int data type to represent whole numbers.\n",
    "       ex : int_n = 87\n",
    "2. float data type :\n",
    "       we can use float data type of represent floating point values (decimal values)\n",
    "       ex : flot_n = 87.77 \n",
    "3. string data type :\n",
    "       A string is a collaction of one or more characters put in single quote, double quote or triple quote.\n",
    "       ex : var1 = 'hello world' "
   ]
  },
  {
   "cell_type": "raw",
   "id": "23c18548",
   "metadata": {},
   "source": [
    "4. What is an expression made up of? What do all expressions do?\n",
    "\n",
    "Ans: An expression is a combination of values , variables , opreators , and calls to functions. expressions need to be evaluated. if we ask python to print an exression , the iterpreter evaluates the expression and displays the result."
   ]
  },
  {
   "cell_type": "code",
   "execution_count": 2,
   "id": "23fd565d",
   "metadata": {},
   "outputs": [
    {
     "data": {
      "text/plain": [
       "0"
      ]
     },
     "execution_count": 2,
     "metadata": {},
     "output_type": "execute_result"
    }
   ],
   "source": [
    "2*2+4-8"
   ]
  },
  {
   "cell_type": "raw",
   "id": "0244c464",
   "metadata": {},
   "source": [
    "5. This assignment statements, like spam = 10. What is the difference between an\n",
    "expression and a statement?\n",
    "\n",
    "Ans: An expression is a combination of values, variables, and operators. when we type an expression at the prompt, the interpreter evaluates it, which means that it finds the value of the expression.\n",
    " \n",
    "\n"
   ]
  },
  {
   "cell_type": "code",
   "execution_count": 7,
   "id": "23b3d4ca",
   "metadata": {},
   "outputs": [
    {
     "data": {
      "text/plain": [
       "0"
      ]
     },
     "execution_count": 7,
     "metadata": {},
     "output_type": "execute_result"
    }
   ],
   "source": [
    "2*2+4-8 #is an example of a statement "
   ]
  },
  {
   "cell_type": "raw",
   "id": "d1dd82d4",
   "metadata": {},
   "source": [
    "A statement is a unit of code that has an effect , like creating a variable or displaying a value. when we type a statement, the interpreter executes it , which means that it does whatever the statement says. in general, statement don't have values"
   ]
  },
  {
   "cell_type": "code",
   "execution_count": 8,
   "id": "aa58ee2e",
   "metadata": {},
   "outputs": [
    {
     "name": "stdout",
     "output_type": "stream",
     "text": [
      "hello world\n"
     ]
    }
   ],
   "source": [
    "2*2+4-8\n",
    "i = 'samir saiyed'\n",
    "print(\"hello world\")# is a expression statement"
   ]
  },
  {
   "cell_type": "raw",
   "id": "48314baa",
   "metadata": {},
   "source": [
    "6. After running the following code, what does the variable bacon contain?\n",
    "bacon = 22\n",
    "bacon + 1\n",
    "\n",
    "Ans: The varible bacon is set of 22. the expression bacon+1 does not ressign the value in bacon "
   ]
  },
  {
   "cell_type": "code",
   "execution_count": 9,
   "id": "74e57064",
   "metadata": {},
   "outputs": [
    {
     "name": "stdout",
     "output_type": "stream",
     "text": [
      "22\n"
     ]
    }
   ],
   "source": [
    "#example_1\n",
    "bacon = 22 \n",
    "bacon+1\n",
    "print(bacon)"
   ]
  },
  {
   "cell_type": "code",
   "execution_count": 11,
   "id": "e0626ff7",
   "metadata": {},
   "outputs": [
    {
     "name": "stdout",
     "output_type": "stream",
     "text": [
      "23\n"
     ]
    }
   ],
   "source": [
    "#example_2\n",
    "bacon = 22\n",
    "bacon = bacon+1\n",
    "print(bacon)"
   ]
  },
  {
   "cell_type": "raw",
   "id": "8245308e",
   "metadata": {},
   "source": [
    "7. What should the values of the following two terms be?\n",
    "'spam' + 'spamspam'\n",
    "'spam'*3\n",
    "\n",
    "Ans: Both expression evalute to the string 'spamspamspam' where as the first expression follow string concatention and the second expression followa string multiplication"
   ]
  },
  {
   "cell_type": "code",
   "execution_count": 12,
   "id": "767df94e",
   "metadata": {},
   "outputs": [
    {
     "name": "stdout",
     "output_type": "stream",
     "text": [
      "spamspamspam\n",
      "spamspamspam\n"
     ]
    }
   ],
   "source": [
    "print('spam'+'spamspam')\n",
    "print('spam'*3)"
   ]
  },
  {
   "cell_type": "raw",
   "id": "85290c0a",
   "metadata": {},
   "source": [
    "8. Why is eggs a valid variable name while 100 is invalid?\n",
    "\n",
    "Ans: As per python, variable names cannot begin with a number. the python rules for naming a variable are :\n",
    "\n",
    "1. Variable name must start with a letter or the underscore character.\n",
    "2. Variable name cannot start with a number.\n",
    "3. Variable name can only contain alpha-numeric characters and underscore(A-z,0-9,&_).\n",
    "4. Variable names are case sensitive.\n",
    "5. The reserved words cannot be used naming the varible."
   ]
  },
  {
   "cell_type": "code",
   "execution_count": 13,
   "id": "8f81fad9",
   "metadata": {},
   "outputs": [
    {
     "ename": "SyntaxError",
     "evalue": "cannot assign to literal (Temp/ipykernel_4968/3041662867.py, line 2)",
     "output_type": "error",
     "traceback": [
      "\u001b[1;36m  File \u001b[1;32m\"C:\\Users\\SAMIRS~1\\AppData\\Local\\Temp/ipykernel_4968/3041662867.py\"\u001b[1;36m, line \u001b[1;32m2\u001b[0m\n\u001b[1;33m    100 = 'hello'\u001b[0m\n\u001b[1;37m    ^\u001b[0m\n\u001b[1;31mSyntaxError\u001b[0m\u001b[1;31m:\u001b[0m cannot assign to literal\n"
     ]
    }
   ],
   "source": [
    "egg = 'Ineuron'\n",
    "100 = 'hello'\n",
    "print(egg)\n",
    "print(100)"
   ]
  },
  {
   "cell_type": "raw",
   "id": "ffd15078",
   "metadata": {},
   "source": [
    "9. What three functions can be used to get the integer, floating-point number, or string\n",
    "version of a value?\n",
    "\n",
    "Ans: The int(),float(),and str() functions will evalute to the integer , floating-point number , string version of the value passed to them."
   ]
  },
  {
   "cell_type": "code",
   "execution_count": 16,
   "id": "42895324",
   "metadata": {},
   "outputs": [
    {
     "name": "stdout",
     "output_type": "stream",
     "text": [
      "int(10.0)-> 10\n",
      "float(10)-> 10.0\n",
      "str(10)-> 10.0\n"
     ]
    }
   ],
   "source": [
    "#example:\n",
    "print('int(10.0)->',int(10.0))\n",
    "print('float(10)->',float(10.0))\n",
    "print('str(10)->',str(10.0))"
   ]
  },
  {
   "cell_type": "raw",
   "id": "77bc2614",
   "metadata": {},
   "source": [
    "10. Why does this expression cause an error? How can you fix it?\n",
    "'I have eaten' + 99 + 'burritos.'\n",
    "\n",
    "Ans: This cause of error is 99.because 99 is not a string.99 must be typecasted to a string to fix this error. the correct way is : (in example)"
   ]
  },
  {
   "cell_type": "code",
   "execution_count": 19,
   "id": "7aec8124",
   "metadata": {},
   "outputs": [
    {
     "name": "stdout",
     "output_type": "stream",
     "text": [
      "I have eaten99burritos\n"
     ]
    }
   ],
   "source": [
    "#Example :\n",
    "print('I have eaten'+str(99)+'burritos')"
   ]
  }
 ],
 "metadata": {
  "kernelspec": {
   "display_name": "Python 3 (ipykernel)",
   "language": "python",
   "name": "python3"
  },
  "language_info": {
   "codemirror_mode": {
    "name": "ipython",
    "version": 3
   },
   "file_extension": ".py",
   "mimetype": "text/x-python",
   "name": "python",
   "nbconvert_exporter": "python",
   "pygments_lexer": "ipython3",
   "version": "3.9.7"
  }
 },
 "nbformat": 4,
 "nbformat_minor": 5
}
